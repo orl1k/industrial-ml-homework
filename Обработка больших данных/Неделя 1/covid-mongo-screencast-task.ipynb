{
 "cells": [
  {
   "cell_type": "markdown",
   "metadata": {},
   "source": [
    "**Задание**\n",
    "\n",
    "Для каждой страны необходимо подсчитать количество дней, когда количество умерших было больше, чем в среднем по миру за все время наблюдений. Ответом к задаче будет топ-10 стран с наибольшим показателем количества таких дней.\n",
    "\n",
    "Важные моменты\n",
    "* Считаются дни, когда было строго больше среднего\n",
    "* Разные регионы страны вначале необходимо совместить, чтобы статистика считалась верно (смотри последний запрос выше)\n",
    "* Доработка данных уже после запроса на Python вполне возможна, если это требуется\n",
    "* Не обязательно делать ровно один агрегационный запрос - можно сделать серию запросов. Главное, чтобы по итогу был подсчитан запрашиваемый набор данных\n",
    "\n",
    "Результатом должен быть файл `result.json` в следующем формате:\n",
    "```\n",
    "{\n",
    "    \"<country 1>\": \"<number of days>\",\n",
    "    \"<country 2>\": \"<number of days>\",\n",
    "    ...\n",
    "    \"<country 10>\": \"<number of days>\"\n",
    "}\n",
    "```"
   ]
  },
  {
   "cell_type": "code",
   "execution_count": 1,
   "metadata": {},
   "outputs": [],
   "source": [
    "from pymongo import MongoClient\n",
    "import json\n",
    "client = MongoClient('localhost', 27017)\n",
    "world = client.covid.world  # коллекция world внутри базы covid\n",
    "\n",
    "# Функция, чтобы красиво печатать результаты:\n",
    "\n",
    "def p(x):\n",
    "    from pprint import pprint\n",
    "    pprint(list(x))"
   ]
  },
  {
   "cell_type": "code",
   "execution_count": 2,
   "metadata": {},
   "outputs": [
    {
     "data": {
      "text/plain": [
       "1027.9561092447432"
      ]
     },
     "execution_count": 2,
     "metadata": {},
     "output_type": "execute_result"
    }
   ],
   "source": [
    "avg_deaths = list(world.aggregate([\n",
    "    {\n",
    "        '$group': {\n",
    "            \"_id\": {\n",
    "                \"country\": \"$country\",\n",
    "                \"date\": \"$date\"\n",
    "            },\n",
    "            \"deaths\": {'$sum': \"$deaths\"},\n",
    "        }\n",
    "    },\n",
    "    {\n",
    "        '$group': {\n",
    "            \"_id\": None,\n",
    "            \"avg_deaths\": {\"$avg\": \"$deaths\"}\n",
    "        }\n",
    "    }\n",
    "]))[0]['avg_deaths']\n",
    "\n",
    "avg_deaths"
   ]
  },
  {
   "cell_type": "code",
   "execution_count": 3,
   "metadata": {},
   "outputs": [
    {
     "name": "stdout",
     "output_type": "stream",
     "text": [
      "[{'_id': {'country': 'China'}, 'count': 151},\n",
      " {'_id': {'country': 'Italy'}, 'count': 120},\n",
      " {'_id': {'country': 'Iran'}, 'count': 115},\n",
      " {'_id': {'country': 'Spain'}, 'count': 113},\n",
      " {'_id': {'country': 'France'}, 'count': 109},\n",
      " {'_id': {'country': 'US'}, 'count': 108},\n",
      " {'_id': {'country': 'United Kingdom'}, 'count': 106},\n",
      " {'_id': {'country': 'Netherlands'}, 'count': 102},\n",
      " {'_id': {'country': 'Germany'}, 'count': 100},\n",
      " {'_id': {'country': 'Belgium'}, 'count': 99}]\n"
     ]
    }
   ],
   "source": [
    "res = list(world.aggregate([\n",
    "    {\n",
    "        '$group': {\n",
    "            \"_id\": {\n",
    "                \"country\": \"$country\",\n",
    "                \"date\": \"$date\"\n",
    "            },\n",
    "            \"deaths\": {'$sum': \"$deaths\"},\n",
    "        }\n",
    "    },\n",
    "    {\n",
    "        \"$group\": {\n",
    "            \"_id\": {\n",
    "                \"country\": \"$_id.country\",\n",
    "                \"date\": \"$_id.date\"\n",
    "            },\n",
    "            \"avg_deaths\": {\"$avg\": \"$deaths\"}\n",
    "        }\n",
    "    },\n",
    "    {\n",
    "        \"$match\": {\n",
    "            \"avg_deaths\": {\"$gt\": avg_deaths}\n",
    "        }\n",
    "    },\n",
    "    {\n",
    "        \"$group\": {\n",
    "            \"_id\": {\n",
    "                \"country\": \"$_id.country\",\n",
    "            },\n",
    "            \"count\": {\"$sum\": 1}\n",
    "        }\n",
    "    },\n",
    "    {\n",
    "        \"$sort\": {'count': -1},\n",
    "    },\n",
    "    {\n",
    "        \"$limit\": 10\n",
    "    }\n",
    "]))\n",
    "\n",
    "p(res)"
   ]
  },
  {
   "cell_type": "code",
   "execution_count": 4,
   "metadata": {},
   "outputs": [],
   "source": [
    "answer = {}\n",
    "for i in res:\n",
    "     answer[i['_id']['country']] = i['count']"
   ]
  },
  {
   "cell_type": "code",
   "execution_count": 5,
   "metadata": {},
   "outputs": [],
   "source": [
    "with open(\"result.json\", 'w') as f:\n",
    "    f.write(\n",
    "        json.dumps(\n",
    "            answer\n",
    "        )\n",
    "    )"
   ]
  },
  {
   "cell_type": "code",
   "execution_count": 6,
   "metadata": {},
   "outputs": [
    {
     "name": "stdout",
     "output_type": "stream",
     "text": [
      "{\"China\": 151, \"Italy\": 120, \"Iran\": 115, \"Spain\": 113, \"France\": 109, \"US\": 108, \"United Kingdom\": 106, \"Netherlands\": 102, \"Germany\": 100, \"Belgium\": 99}"
     ]
    }
   ],
   "source": [
    "! cat result.json"
   ]
  },
  {
   "cell_type": "markdown",
   "metadata": {},
   "source": [
    "Более подробную информацию про составление агрегационных пайплайнов в MongoDB можно найти в [официальной документации](https://docs.mongodb.com/manual/core/aggregation-pipeline/)."
   ]
  }
 ],
 "metadata": {
  "coursera": {
   "schema_names": [
    "week-1-mongo-homework-ab"
   ]
  },
  "kernelspec": {
   "display_name": "Python 3",
   "language": "python",
   "name": "python3"
  },
  "language_info": {
   "codemirror_mode": {
    "name": "ipython",
    "version": 3
   },
   "file_extension": ".py",
   "mimetype": "text/x-python",
   "name": "python",
   "nbconvert_exporter": "python",
   "pygments_lexer": "ipython3",
   "version": "3.6.5"
  }
 },
 "nbformat": 4,
 "nbformat_minor": 2
}
