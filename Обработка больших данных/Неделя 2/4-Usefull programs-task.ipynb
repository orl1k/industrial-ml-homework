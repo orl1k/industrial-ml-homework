{
 "cells": [
  {
   "cell_type": "markdown",
   "metadata": {
    "pycharm": {
     "name": "#%% md\n"
    }
   },
   "source": [
    "**Задание**\n",
    "\n",
    "Выбрать из cities.csv названия городов (City) и штатов (State), где город содержит или `San` или `Saint` в какой-то части названия. Сохранить результат в формате csv в файл `result.csv`. У этого csv файла дожен быть заголовок из двух колонок `City` и `State`. Кавычки необходимо удалить из названий городов. Итоговый файл необходимо заархивировать в файл `result.zip`."
   ]
  },
  {
   "cell_type": "code",
   "execution_count": 1,
   "metadata": {},
   "outputs": [
    {
     "name": "stdout",
     "output_type": "stream",
     "text": [
      "     1\t\"LatD\"\r\n",
      "     2\t \"LatM\"\r\n",
      "     3\t \"LatS\"\r\n",
      "     4\t \"NS\"\r\n",
      "     5\t \"LonD\"\r\n",
      "     6\t \"LonM\"\r\n",
      "     7\t \"LonS\"\r\n",
      "     8\t \"EW\"\r\n",
      "     9\t \"City\"\r\n",
      "    10\t \"State\"\r\n"
     ]
    }
   ],
   "source": [
    "! head -1 cities.csv | tr ',' '\\n' | cat -n"
   ]
  },
  {
   "cell_type": "code",
   "execution_count": 2,
   "metadata": {},
   "outputs": [],
   "source": [
    "! cat cities.csv | cut -d',' -f9,10 | sed -n -e '1p;/Saint\\|San/p' | tr -d '\"' > result.csv"
   ]
  },
  {
   "cell_type": "code",
   "execution_count": 3,
   "metadata": {},
   "outputs": [
    {
     "name": "stdout",
     "output_type": "stream",
     "text": [
      " City, State\r\n",
      " Sault Sainte Marie, MI\r\n",
      " Santa Rosa, CA\r\n",
      " Santa Fe, NM\r\n",
      " Santa Barbara, CA\r\n",
      " Santa Ana, CA\r\n",
      " San Jose, CA\r\n",
      " San Francisco, CA\r\n",
      " Sandusky, OH\r\n",
      " San Diego, CA\r\n",
      " San Bernardino, CA\r\n",
      " San Antonio, TX\r\n",
      " San Angelo, TX\r\n",
      " Saint Paul, MN\r\n",
      " Saint Louis, MO\r\n",
      " Saint Joseph, MO\r\n",
      " Saint Joseph, MI\r\n",
      " Saint Johnsbury, VT\r\n",
      " Saint Cloud, MN\r\n",
      " Saint Augustine, FL\r\n"
     ]
    }
   ],
   "source": [
    "! cat result.csv"
   ]
  },
  {
   "cell_type": "code",
   "execution_count": 4,
   "metadata": {},
   "outputs": [
    {
     "name": "stdout",
     "output_type": "stream",
     "text": [
      "  adding: result.csv (deflated 49%)\r\n"
     ]
    }
   ],
   "source": [
    "! zip result.zip result.csv"
   ]
  },
  {
   "cell_type": "code",
   "execution_count": null,
   "metadata": {},
   "outputs": [],
   "source": []
  }
 ],
 "metadata": {
  "coursera": {
   "schema_names": [
    "week-2-homework-4-bash-progs"
   ]
  },
  "kernelspec": {
   "display_name": "Python 3",
   "language": "python",
   "name": "python3"
  },
  "language_info": {
   "codemirror_mode": {
    "name": "ipython",
    "version": 3
   },
   "file_extension": ".py",
   "mimetype": "text/x-python",
   "name": "python",
   "nbconvert_exporter": "python",
   "pygments_lexer": "ipython3",
   "version": "3.6.5"
  }
 },
 "nbformat": 4,
 "nbformat_minor": 2
}
