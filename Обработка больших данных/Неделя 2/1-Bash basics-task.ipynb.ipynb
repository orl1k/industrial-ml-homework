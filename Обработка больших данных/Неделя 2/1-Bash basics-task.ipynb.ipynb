{
 "cells": [
  {
   "cell_type": "markdown",
   "metadata": {},
   "source": [
    "**Задание**\n",
    "\n",
    "Где-то в глубине директории `catch` находится один файл, который нужно найти. Понять, что это тот самый файл, можно посмотрев его содержание. Ваша задача найти этот файл и скопировать его в текущую корневую директорию под названием `result.txt`."
   ]
  },
  {
   "cell_type": "code",
   "execution_count": 1,
   "metadata": {},
   "outputs": [
    {
     "name": "stdout",
     "output_type": "stream",
     "text": [
      "catch:\r\n",
      "me\r\n",
      "\r\n",
      "catch/me:\r\n",
      "if\r\n",
      "\r\n",
      "catch/me/if:\r\n",
      "you\r\n",
      "\r\n",
      "catch/me/if/you:\r\n",
      "can\r\n",
      "\r\n",
      "catch/me/if/you/can:\r\n",
      "here.txt  or-here.txt  or-maybe-here.txt\r\n"
     ]
    }
   ],
   "source": [
    "! ls catch -R"
   ]
  },
  {
   "cell_type": "code",
   "execution_count": 2,
   "metadata": {},
   "outputs": [
    {
     "name": "stdout",
     "output_type": "stream",
     "text": [
      "Нет, я не тот файл, который ты ищешь."
     ]
    }
   ],
   "source": [
    "! cat catch/me/if/you/can/here.txt"
   ]
  },
  {
   "cell_type": "code",
   "execution_count": 3,
   "metadata": {},
   "outputs": [
    {
     "name": "stdout",
     "output_type": "stream",
     "text": [
      "Да! Я тот файл, который ты ищешь! Копируй меня!\r\n"
     ]
    }
   ],
   "source": [
    "! cat catch/me/if/you/can/or-here.txt"
   ]
  },
  {
   "cell_type": "code",
   "execution_count": 4,
   "metadata": {},
   "outputs": [],
   "source": [
    "! cp catch/me/if/you/can/or-here.txt result.txt"
   ]
  },
  {
   "cell_type": "code",
   "execution_count": 5,
   "metadata": {},
   "outputs": [
    {
     "name": "stdout",
     "output_type": "stream",
     "text": [
      "'1-Bash basics-task.ipynb'   catch   img   result.txt\r\n"
     ]
    }
   ],
   "source": [
    "! ls"
   ]
  },
  {
   "cell_type": "code",
   "execution_count": null,
   "metadata": {},
   "outputs": [],
   "source": []
  }
 ],
 "metadata": {
  "coursera": {
   "schema_names": [
    "week-2-task-bash-basics"
   ]
  },
  "kernelspec": {
   "display_name": "Python 3",
   "language": "python",
   "name": "python3"
  },
  "language_info": {
   "codemirror_mode": {
    "name": "ipython",
    "version": 3
   },
   "file_extension": ".py",
   "mimetype": "text/x-python",
   "name": "python",
   "nbconvert_exporter": "python",
   "pygments_lexer": "ipython3",
   "version": "3.6.5"
  }
 },
 "nbformat": 4,
 "nbformat_minor": 2
}
